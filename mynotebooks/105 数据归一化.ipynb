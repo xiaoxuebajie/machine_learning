{
 "cells": [
  {
   "cell_type": "markdown",
   "metadata": {},
   "source": [
    "# 105 数据归一化 scaling"
   ]
  },
  {
   "cell_type": "code",
   "execution_count": 1,
   "metadata": {},
   "outputs": [],
   "source": [
    "import numpy as np\n",
    "import matplotlib.pyplot as plt\n",
    "plt.style.use('ggplot')\n",
    "%matplotlib inline"
   ]
  },
  {
   "cell_type": "markdown",
   "metadata": {},
   "source": [
    "### 最值归一化 Normalization"
   ]
  },
  {
   "cell_type": "code",
   "execution_count": 2,
   "metadata": {},
   "outputs": [],
   "source": [
    "x = np.random.rand(100)*100"
   ]
  },
  {
   "cell_type": "code",
   "execution_count": 3,
   "metadata": {},
   "outputs": [
    {
     "data": {
      "text/plain": [
       "array([0.54330637, 0.63947426, 0.63019651, 0.11954453, 0.94262975,\n",
       "       0.81278025, 0.        , 0.61740034, 0.46388408, 0.20269896,\n",
       "       0.69352802, 0.71614032, 0.5139039 , 0.76430953, 0.41288891,\n",
       "       0.44093981, 0.0335324 , 0.43880438, 0.62465978, 0.50288554,\n",
       "       0.07099822, 0.9228517 , 0.25971345, 0.03485723, 0.57442794,\n",
       "       0.65809345, 0.97367898, 0.78780604, 0.90403485, 0.0113428 ,\n",
       "       0.41119447, 0.72788986, 0.81641231, 0.93500768, 0.06658069,\n",
       "       0.31532281, 0.31464795, 0.79749458, 0.86051432, 0.45224857,\n",
       "       0.86373185, 0.51611389, 0.81142788, 0.74467003, 0.11979219,\n",
       "       0.19809179, 0.58292046, 0.60915012, 0.42637812, 0.28555073,\n",
       "       0.52079764, 0.49697868, 0.78921221, 0.53089647, 0.74436941,\n",
       "       0.43293309, 0.61023863, 0.71848769, 0.25020804, 0.98497382,\n",
       "       0.0144688 , 0.4287929 , 0.09935889, 0.32719967, 0.66455291,\n",
       "       0.90262883, 0.2549491 , 0.30981862, 0.52087242, 0.73998139,\n",
       "       0.86554432, 0.40662587, 0.75366391, 0.20513218, 0.36076925,\n",
       "       0.46118647, 0.13189372, 0.89678245, 0.49602777, 0.5246858 ,\n",
       "       0.22422347, 0.42259551, 0.73027245, 0.70967424, 0.93339096,\n",
       "       0.97450079, 0.23607796, 0.44172156, 0.8304336 , 1.        ,\n",
       "       0.14402107, 0.10148517, 0.78512466, 0.52656669, 0.00384407,\n",
       "       0.7500077 , 0.45328119, 0.64321409, 0.73615201, 0.82179645])"
      ]
     },
     "execution_count": 3,
     "metadata": {},
     "output_type": "execute_result"
    }
   ],
   "source": [
    "(x - np.min(x)) / (np.max(x)-np.min(x))"
   ]
  },
  {
   "cell_type": "code",
   "execution_count": 4,
   "metadata": {},
   "outputs": [],
   "source": [
    "X = np.random.rand(50,2)*100"
   ]
  },
  {
   "cell_type": "code",
   "execution_count": 5,
   "metadata": {},
   "outputs": [],
   "source": [
    "for i in range(X.shape[1]):\n",
    "    X[:,i] = (X[:,i] - np.min(X[:,i])) / (np.max(X[:,i])-np.min(X[:,i]))"
   ]
  },
  {
   "cell_type": "code",
   "execution_count": 6,
   "metadata": {},
   "outputs": [
    {
     "data": {
      "text/plain": [
       "array([[0.20321047, 0.40656989],\n",
       "       [0.16446299, 0.55739914],\n",
       "       [0.91115234, 0.34977501],\n",
       "       [0.33742797, 0.174463  ],\n",
       "       [0.08285905, 0.05223581],\n",
       "       [0.78423354, 0.57382615],\n",
       "       [0.52815341, 0.21255855],\n",
       "       [0.96099599, 0.30153482],\n",
       "       [0.35052099, 0.95022723],\n",
       "       [0.        , 0.43567973]])"
      ]
     },
     "execution_count": 6,
     "metadata": {},
     "output_type": "execute_result"
    }
   ],
   "source": [
    "X[:10,:]"
   ]
  },
  {
   "cell_type": "code",
   "execution_count": 7,
   "metadata": {},
   "outputs": [
    {
     "data": {
      "text/plain": [
       "<matplotlib.collections.PathCollection at 0x2279b570240>"
      ]
     },
     "execution_count": 7,
     "metadata": {},
     "output_type": "execute_result"
    },
    {
     "data": {
      "image/png": "[encoded data removed]",
      "text/plain": [
       "<Figure size 432x288 with 1 Axes>"
      ]
     },
     "metadata": {
      "needs_background": "light"
     },
     "output_type": "display_data"
    }
   ],
   "source": [
    "plt.scatter(X[:,0], X[:,1])"
   ]
  },
  {
   "cell_type": "markdown",
   "metadata": {},
   "source": [
    "### 均值方差归一化 Standardization"
   ]
  },
  {
   "cell_type": "code",
   "execution_count": 8,
   "metadata": {},
   "outputs": [],
   "source": [
    "X2 = np.random.randint(0, 100, (50,2))\n",
    "X2 = np.array(X2, dtype=float)"
   ]
  },
  {
   "cell_type": "code",
   "execution_count": 9,
   "metadata": {},
   "outputs": [],
   "source": [
    "for i in range(X.shape[1]):\n",
    "    X2[:,i] = (X2[:,i] - np.mean(X2[:,i])) / np.std(X2[:,i])"
   ]
  },
  {
   "cell_type": "code",
   "execution_count": 10,
   "metadata": {},
   "outputs": [
    {
     "data": {
      "text/plain": [
       "<matplotlib.collections.PathCollection at 0x2279b629198>"
      ]
     },
     "execution_count": 10,
     "metadata": {},
     "output_type": "execute_result"
    },
    {
     "data": {
      "image/png": "[encoded data removed]",
      "text/plain": [
       "<Figure size 432x288 with 1 Axes>"
      ]
     },
     "metadata": {
      "needs_background": "light"
     },
     "output_type": "display_data"
    }
   ],
   "source": [
    "plt.scatter(X2[:,0], X2[:,1])"
   ]
  },
  {
   "cell_type": "code",
   "execution_count": 11,
   "metadata": {},
   "outputs": [
    {
     "name": "stdout",
     "output_type": "stream",
     "text": [
      "第一列均值：-0.000000,方差：1.000000 ,第二列均值：0.000000,方差：1.000000\n"
     ]
    }
   ],
   "source": [
    "print(\"第一列均值：%f,方差：%f ,第二列均值：%f,方差：%f\" % (np.mean(X2[:,0]), np.std(X2[:,0]), np.mean(X2[:,1]), np.std(X2[:,1])))"
   ]
  },
  {
   "cell_type": "markdown",
   "metadata": {},
   "source": [
    "### 对于测试数据集，要通过<font color='red'>测试训练集</font>的均值和方差进行归一化"
   ]
  },
  {
   "cell_type": "markdown",
   "metadata": {},
   "source": [
    "### Scikit-learn中的Scaler"
   ]
  },
  {
   "cell_type": "code",
   "execution_count": 12,
   "metadata": {},
   "outputs": [],
   "source": [
    "import numpy as np\n",
    "from sklearn import datasets"
   ]
  },
  {
   "cell_type": "code",
   "execution_count": 13,
   "metadata": {},
   "outputs": [],
   "source": [
    "iris = datasets.load_iris()"
   ]
  },
  {
   "cell_type": "code",
   "execution_count": 14,
   "metadata": {},
   "outputs": [],
   "source": [
    "X = iris.data\n",
    "y = iris.target"
   ]
  },
  {
   "cell_type": "code",
   "execution_count": 15,
   "metadata": {},
   "outputs": [],
   "source": [
    "from sklearn.model_selection import train_test_split\n",
    "\n",
    "X_train, X_test, y_train, y_test = train_test_split(X, y, test_size=0.2, random_state=666)"
   ]
  },
  {
   "cell_type": "markdown",
   "metadata": {},
   "source": [
    "### ## Scikit-learn中的StandardScaler"
   ]
  },
  {
   "cell_type": "code",
   "execution_count": 16,
   "metadata": {},
   "outputs": [],
   "source": [
    "from sklearn.preprocessing import StandardScaler\n",
    "\n",
    "standardScalar = StandardScaler()"
   ]
  },
  {
   "cell_type": "code",
   "execution_count": 17,
   "metadata": {},
   "outputs": [
    {
     "name": "stdout",
     "output_type": "stream",
     "text": [
      "[5.83416667 3.08666667 3.70833333 1.17      ]\n",
      "[0.81019502 0.44327067 1.76401924 0.75317107]\n"
     ]
    }
   ],
   "source": [
    "standardScalar.fit(X_train)\n",
    "print(standardScalar.mean_)\n",
    "print(standardScalar.scale_)"
   ]
  },
  {
   "cell_type": "code",
   "execution_count": 18,
   "metadata": {},
   "outputs": [],
   "source": [
    "X_train = standardScalar.transform(X_train)"
   ]
  },
  {
   "cell_type": "code",
   "execution_count": 19,
   "metadata": {},
   "outputs": [],
   "source": [
    "X_test_standard = standardScalar.transform(X_test)"
   ]
  },
  {
   "cell_type": "markdown",
   "metadata": {},
   "source": [
    "### 使用归一化后的数据进行knn分类"
   ]
  },
  {
   "cell_type": "code",
   "execution_count": 20,
   "metadata": {},
   "outputs": [
    {
     "data": {
      "text/plain": [
       "KNeighborsClassifier(algorithm='auto', leaf_size=30, metric='minkowski',\n",
       "                     metric_params=None, n_jobs=None, n_neighbors=3, p=2,\n",
       "                     weights='uniform')"
      ]
     },
     "execution_count": 20,
     "metadata": {},
     "output_type": "execute_result"
    }
   ],
   "source": [
    "from sklearn.neighbors import KNeighborsClassifier\n",
    "\n",
    "knn_clf = KNeighborsClassifier(n_neighbors=3)\n",
    "knn_clf.fit(X_train, y_train)"
   ]
  },
  {
   "cell_type": "code",
   "execution_count": 21,
   "metadata": {},
   "outputs": [
    {
     "data": {
      "text/plain": [
       "0.95"
      ]
     },
     "execution_count": 21,
     "metadata": {},
     "output_type": "execute_result"
    }
   ],
   "source": [
    "knn_clf.score(X_train, y_train)"
   ]
  },
  {
   "cell_type": "code",
   "execution_count": 22,
   "metadata": {},
   "outputs": [
    {
     "data": {
      "text/plain": [
       "1.0"
      ]
     },
     "execution_count": 22,
     "metadata": {},
     "output_type": "execute_result"
    }
   ],
   "source": [
    "knn_clf.score(X_test_standard, y_test)"
   ]
  },
  {
   "cell_type": "markdown",
   "metadata": {},
   "source": [
    "### 实现自己的standardScalar\n",
    "代码参见：[这里](./code/playML/preprocessing.py)"
   ]
  },
  {
   "cell_type": "code",
   "execution_count": 23,
   "metadata": {},
   "outputs": [],
   "source": [
    "X_train, X_test, y_train, y_test = train_test_split(X, y, test_size=0.2, random_state=666)"
   ]
  },
  {
   "cell_type": "code",
   "execution_count": 24,
   "metadata": {},
   "outputs": [
    {
     "name": "stdout",
     "output_type": "stream",
     "text": [
      "[5.83416667 3.08666667 3.70833333 1.17      ]\n",
      "[0.81019502 0.44327067 1.76401924 0.75317107]\n"
     ]
    }
   ],
   "source": [
    "import sys\n",
    "sys.path.insert(0,'./code')\n",
    "from playML.preprocessing import StandardScaler\n",
    "\n",
    "my_standardScalar = StandardScaler()\n",
    "my_standardScalar.fit(X_train)\n",
    "print(my_standardScalar.mean_)\n",
    "print(my_standardScalar.scale_)"
   ]
  },
  {
   "cell_type": "code",
   "execution_count": 25,
   "metadata": {},
   "outputs": [],
   "source": [
    "X_train = my_standardScalar.transform(X_train)\n",
    "X_test = my_standardScalar.transform(X_test)"
   ]
  },
  {
   "cell_type": "code",
   "execution_count": 26,
   "metadata": {},
   "outputs": [
    {
     "data": {
      "text/plain": [
       "array([[-0.90616043,  0.93246262, -1.30856471, -1.28788802],\n",
       "       [-1.15301457, -0.19551636, -1.30856471, -1.28788802],\n",
       "       [-0.16559799, -0.64670795,  0.22203084,  0.17260355],\n",
       "       [ 0.45153738,  0.70686683,  0.95898425,  1.50032315],\n",
       "       [-0.90616043, -1.32349533, -0.40154513, -0.09294037],\n",
       "       [ 1.43895396,  0.25567524,  0.56216318,  0.30537551],\n",
       "       [ 0.3281103 , -1.09789954,  1.0723617 ,  0.30537551],\n",
       "       [ 2.1795164 , -0.19551636,  1.63924894,  1.23477923],\n",
       "       [-0.78273335,  2.2860374 , -1.25187599, -1.42065998],\n",
       "       [ 0.45153738, -2.00028272,  0.44878573,  0.43814747]])"
      ]
     },
     "execution_count": 26,
     "metadata": {},
     "output_type": "execute_result"
    }
   ],
   "source": [
    "X_train[:10,:]"
   ]
  },
  {
   "cell_type": "markdown",
   "metadata": {},
   "source": [
    "### Scikit-Learn中的最值归一化\n",
    "MinMaxScaler: [http://scikit-learn.org/stable/modules/generated/sklearn.preprocessing.MinMaxScaler.html](http://scikit-learn.org/stable/modules/generated/sklearn.preprocessing.MinMaxScaler.html)"
   ]
  }
 ],
 "metadata": {
  "kernelspec": {
   "display_name": "Python 3",
   "language": "python",
   "name": "python3"
  },
  "language_info": {
   "codemirror_mode": {
    "name": "ipython",
    "version": 3
   },
   "file_extension": ".py",
   "mimetype": "text/x-python",
   "name": "python",
   "nbconvert_exporter": "python",
   "pygments_lexer": "ipython3",
   "version": "3.6.7"
  }
 },
 "nbformat": 4,
 "nbformat_minor": 2
}
